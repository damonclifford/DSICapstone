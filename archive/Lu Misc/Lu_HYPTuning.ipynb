{
 "cells": [
  {
   "cell_type": "markdown",
   "metadata": {
    "_cell_guid": "90b22ace-528d-477d-8880-6d9a1c979d7e",
    "_uuid": "a25af58780d7ef5c499211f6dccfda2011b689a0"
   },
   "source": [
    "# Churn Analysis"
   ]
  },
  {
   "cell_type": "code",
   "execution_count": 1,
   "metadata": {
    "_cell_guid": "7c6b9709-a895-43b2-831b-5b6bc2e3ca87",
    "_uuid": "04a5e7b424751df95279eb538cdef5af3744e454"
   },
   "outputs": [],
   "source": [
    "from sklearn.model_selection import StratifiedKFold\n",
    "from sklearn import tree\n",
    "from sklearn import svm\n",
    "from sklearn import ensemble\n",
    "from sklearn import neighbors\n",
    "from sklearn import linear_model\n",
    "from sklearn import metrics\n",
    "from sklearn import preprocessing"
   ]
  },
  {
   "cell_type": "code",
   "execution_count": 2,
   "metadata": {
    "_cell_guid": "df5b20b9-f18b-4480-9890-85ed4093dfff",
    "_uuid": "dcd176e2bf9f7ba309216beed88f1a4361d70a2b"
   },
   "outputs": [],
   "source": [
    "%matplotlib inline \n",
    "\n",
    "from IPython.display import Image\n",
    "import matplotlib as mlp\n",
    "import matplotlib.pyplot as plt\n",
    "import numpy as np\n",
    "import os\n",
    "import pandas as pd\n",
    "import sklearn\n",
    "import seaborn as sns\n"
   ]
  },
  {
   "cell_type": "markdown",
   "metadata": {
    "_cell_guid": "901d651c-c282-4fc9-8049-84f27dbe5065",
    "_uuid": "1c307eb272a03428266b199cd4ac4505f211a7ea"
   },
   "source": [
    "## Dataset \n",
    "\n"
   ]
  },
  {
   "cell_type": "code",
   "execution_count": 37,
   "metadata": {
    "_cell_guid": "47bdcd89-d559-44a1-b9f0-62388921b324",
    "_uuid": "0a3480ff88aeb7eca70cf58f493e7eefcc391aca"
   },
   "outputs": [
    {
     "name": "stdout",
     "output_type": "stream",
     "text": [
      "(242, 15)\n"
     ]
    },
    {
     "data": {
      "text/plain": [
       "churn               int64\n",
       "pageviews           int64\n",
       "admins              int64\n",
       "employees           int64\n",
       "usecompetitors      int64\n",
       "contractdays        int64\n",
       "callcycle          object\n",
       "associateddeals     int64\n",
       "timescontacted      int64\n",
       "origsource         object\n",
       "sessions            int64\n",
       "FF                  int64\n",
       "gauge              object\n",
       "industry           object\n",
       "strategic           int64\n",
       "dtype: object"
      ]
     },
     "execution_count": 37,
     "metadata": {},
     "output_type": "execute_result"
    }
   ],
   "source": [
    "#df = pd.read_csv('../input/mytest.csv')\n",
    "df = pd.read_csv('data.csv')\n",
    "\n",
    "print (df.shape)\n",
    "\n",
    "df.dtypes"
   ]
  },
  {
   "cell_type": "code",
   "execution_count": 4,
   "metadata": {
    "_cell_guid": "c1b7223d-10fa-4699-b6e1-59ebd0b04c1a",
    "_uuid": "d3453663fe56554c122907f442f7eb2c73f96070"
   },
   "outputs": [
    {
     "data": {
      "text/html": [
       "<div>\n",
       "<style scoped>\n",
       "    .dataframe tbody tr th:only-of-type {\n",
       "        vertical-align: middle;\n",
       "    }\n",
       "\n",
       "    .dataframe tbody tr th {\n",
       "        vertical-align: top;\n",
       "    }\n",
       "\n",
       "    .dataframe thead th {\n",
       "        text-align: right;\n",
       "    }\n",
       "</style>\n",
       "<table border=\"1\" class=\"dataframe\">\n",
       "  <thead>\n",
       "    <tr style=\"text-align: right;\">\n",
       "      <th></th>\n",
       "      <th>churn</th>\n",
       "      <th>pageviews</th>\n",
       "      <th>admins</th>\n",
       "      <th>employees</th>\n",
       "      <th>usecompetitors</th>\n",
       "      <th>contractdays</th>\n",
       "      <th>callcycle</th>\n",
       "      <th>associateddeals</th>\n",
       "      <th>timescontacted</th>\n",
       "      <th>origsource</th>\n",
       "      <th>sessions</th>\n",
       "      <th>FF</th>\n",
       "      <th>gauge</th>\n",
       "      <th>industry</th>\n",
       "      <th>strategic</th>\n",
       "    </tr>\n",
       "  </thead>\n",
       "  <tbody>\n",
       "    <tr>\n",
       "      <th>0</th>\n",
       "      <td>0</td>\n",
       "      <td>1</td>\n",
       "      <td>0</td>\n",
       "      <td>1000</td>\n",
       "      <td>0</td>\n",
       "      <td>0</td>\n",
       "      <td>Monthly</td>\n",
       "      <td>2</td>\n",
       "      <td>3</td>\n",
       "      <td>Direct Traffic</td>\n",
       "      <td>0</td>\n",
       "      <td>1</td>\n",
       "      <td>Green</td>\n",
       "      <td>Construction</td>\n",
       "      <td>1</td>\n",
       "    </tr>\n",
       "    <tr>\n",
       "      <th>1</th>\n",
       "      <td>0</td>\n",
       "      <td>5</td>\n",
       "      <td>0</td>\n",
       "      <td>10000</td>\n",
       "      <td>0</td>\n",
       "      <td>0</td>\n",
       "      <td>Quarterly</td>\n",
       "      <td>0</td>\n",
       "      <td>13</td>\n",
       "      <td>Direct Traffic</td>\n",
       "      <td>2</td>\n",
       "      <td>0</td>\n",
       "      <td>Green</td>\n",
       "      <td>Consumer Goods</td>\n",
       "      <td>1</td>\n",
       "    </tr>\n",
       "    <tr>\n",
       "      <th>2</th>\n",
       "      <td>1</td>\n",
       "      <td>0</td>\n",
       "      <td>0</td>\n",
       "      <td>0</td>\n",
       "      <td>0</td>\n",
       "      <td>0</td>\n",
       "      <td>Quarterly</td>\n",
       "      <td>0</td>\n",
       "      <td>8</td>\n",
       "      <td>Unknown</td>\n",
       "      <td>0</td>\n",
       "      <td>0</td>\n",
       "      <td>Red</td>\n",
       "      <td>Oil &amp; Energy</td>\n",
       "      <td>1</td>\n",
       "    </tr>\n",
       "  </tbody>\n",
       "</table>\n",
       "</div>"
      ],
      "text/plain": [
       "   churn  pageviews  admins  employees  usecompetitors  contractdays  \\\n",
       "0      0          1       0       1000               0             0   \n",
       "1      0          5       0      10000               0             0   \n",
       "2      1          0       0          0               0             0   \n",
       "\n",
       "   callcycle  associateddeals  timescontacted      origsource  sessions  FF  \\\n",
       "0    Monthly                2               3  Direct Traffic         0   1   \n",
       "1  Quarterly                0              13  Direct Traffic         2   0   \n",
       "2  Quarterly                0               8         Unknown         0   0   \n",
       "\n",
       "   gauge        industry  strategic  \n",
       "0  Green    Construction          1  \n",
       "1  Green  Consumer Goods          1  \n",
       "2    Red    Oil & Energy          1  "
      ]
     },
     "execution_count": 4,
     "metadata": {},
     "output_type": "execute_result"
    }
   ],
   "source": [
    "# Load data\n",
    "df.head(3)"
   ]
  },
  {
   "cell_type": "code",
   "execution_count": 44,
   "metadata": {
    "_cell_guid": "cbe2d9d4-e0a7-4f91-90ec-f85cfa1d25de",
    "_uuid": "332b0df4434f6e1e81935d6441600016401c2b31"
   },
   "outputs": [
    {
     "data": {
      "text/plain": [
       "<matplotlib.axes._subplots.AxesSubplot at 0x238823c05c0>"
      ]
     },
     "execution_count": 44,
     "metadata": {},
     "output_type": "execute_result"
    },
    {
     "data": {
      "image/png": "[encoded data removed]",
      "text/plain": [
       "<Figure size 432x288 with 1 Axes>"
      ]
     },
     "metadata": {
      "needs_background": "light"
     },
     "output_type": "display_data"
    }
   ],
   "source": [
    "y = df[\"churn\"].value_counts()\n",
    "#print (y)\n",
    "sns.barplot(y.index, y.values)"
   ]
  },
  {
   "cell_type": "code",
   "execution_count": 45,
   "metadata": {
    "_cell_guid": "42cbf1cd-8b39-4efb-a067-a011e7d9f19d",
    "_uuid": "df4dd2a688a6bd520a222c71dcc8c245a4dcf3bb"
   },
   "outputs": [
    {
     "name": "stdout",
     "output_type": "stream",
     "text": [
      "Churn Percentage = 19.834710743801654\n"
     ]
    }
   ],
   "source": [
    "y_True = df[\"churn\"][df[\"churn\"] == True]\n",
    "print (\"Churn Percentage = \"+str( (y_True.shape[0] / df[\"churn\"].shape[0]) * 100 ))"
   ]
  },
  {
   "cell_type": "markdown",
   "metadata": {
    "_cell_guid": "a18bc10b-0730-4e1a-b92e-bd6031655783",
    "_uuid": "9c048103b7607691f4f0400896a88670e07cb300"
   },
   "source": [
    "### Conclusion 1 = Imbalanced data - Lesser datapoints in True Churn category"
   ]
  },
  {
   "cell_type": "markdown",
   "metadata": {
    "_cell_guid": "db57eb70-ccb0-4cac-b15c-d7175b058152",
    "_uuid": "6d905f747712b9d01e44207b06b248d4c7d4f6c3"
   },
   "source": [
    "# Descriptive Analysis"
   ]
  },
  {
   "cell_type": "code",
   "execution_count": 46,
   "metadata": {
    "_cell_guid": "37bbe00f-cba0-4885-81b3-2f935ff9e007",
    "_uuid": "18a23347fbad7024d9efb15ac7c0e9a83c645c74"
   },
   "outputs": [
    {
     "data": {
      "text/html": [
       "<div>\n",
       "<style scoped>\n",
       "    .dataframe tbody tr th:only-of-type {\n",
       "        vertical-align: middle;\n",
       "    }\n",
       "\n",
       "    .dataframe tbody tr th {\n",
       "        vertical-align: top;\n",
       "    }\n",
       "\n",
       "    .dataframe thead th {\n",
       "        text-align: right;\n",
       "    }\n",
       "</style>\n",
       "<table border=\"1\" class=\"dataframe\">\n",
       "  <thead>\n",
       "    <tr style=\"text-align: right;\">\n",
       "      <th></th>\n",
       "      <th>churn</th>\n",
       "      <th>pageviews</th>\n",
       "      <th>admins</th>\n",
       "      <th>employees</th>\n",
       "      <th>usecompetitors</th>\n",
       "      <th>contractdays</th>\n",
       "      <th>associateddeals</th>\n",
       "      <th>timescontacted</th>\n",
       "      <th>sessions</th>\n",
       "      <th>FF</th>\n",
       "      <th>strategic</th>\n",
       "    </tr>\n",
       "  </thead>\n",
       "  <tbody>\n",
       "    <tr>\n",
       "      <th>count</th>\n",
       "      <td>242.000000</td>\n",
       "      <td>242.000000</td>\n",
       "      <td>242.000000</td>\n",
       "      <td>242.000000</td>\n",
       "      <td>242.000000</td>\n",
       "      <td>242.000000</td>\n",
       "      <td>242.000000</td>\n",
       "      <td>242.000000</td>\n",
       "      <td>242.000000</td>\n",
       "      <td>242.000000</td>\n",
       "      <td>242.000000</td>\n",
       "    </tr>\n",
       "    <tr>\n",
       "      <th>mean</th>\n",
       "      <td>0.198347</td>\n",
       "      <td>71.194215</td>\n",
       "      <td>7.690083</td>\n",
       "      <td>2127.024793</td>\n",
       "      <td>0.206612</td>\n",
       "      <td>1.760331</td>\n",
       "      <td>2.107438</td>\n",
       "      <td>26.433884</td>\n",
       "      <td>34.082645</td>\n",
       "      <td>0.471074</td>\n",
       "      <td>0.194215</td>\n",
       "    </tr>\n",
       "    <tr>\n",
       "      <th>std</th>\n",
       "      <td>0.399581</td>\n",
       "      <td>199.306306</td>\n",
       "      <td>47.757242</td>\n",
       "      <td>3517.436949</td>\n",
       "      <td>0.405713</td>\n",
       "      <td>5.423209</td>\n",
       "      <td>2.298481</td>\n",
       "      <td>47.863197</td>\n",
       "      <td>98.411625</td>\n",
       "      <td>0.500197</td>\n",
       "      <td>0.396415</td>\n",
       "    </tr>\n",
       "    <tr>\n",
       "      <th>min</th>\n",
       "      <td>0.000000</td>\n",
       "      <td>0.000000</td>\n",
       "      <td>0.000000</td>\n",
       "      <td>0.000000</td>\n",
       "      <td>0.000000</td>\n",
       "      <td>0.000000</td>\n",
       "      <td>0.000000</td>\n",
       "      <td>0.000000</td>\n",
       "      <td>0.000000</td>\n",
       "      <td>0.000000</td>\n",
       "      <td>0.000000</td>\n",
       "    </tr>\n",
       "    <tr>\n",
       "      <th>25%</th>\n",
       "      <td>0.000000</td>\n",
       "      <td>0.000000</td>\n",
       "      <td>0.000000</td>\n",
       "      <td>50.000000</td>\n",
       "      <td>0.000000</td>\n",
       "      <td>0.000000</td>\n",
       "      <td>1.000000</td>\n",
       "      <td>8.000000</td>\n",
       "      <td>0.000000</td>\n",
       "      <td>0.000000</td>\n",
       "      <td>0.000000</td>\n",
       "    </tr>\n",
       "    <tr>\n",
       "      <th>50%</th>\n",
       "      <td>0.000000</td>\n",
       "      <td>3.000000</td>\n",
       "      <td>0.000000</td>\n",
       "      <td>500.000000</td>\n",
       "      <td>0.000000</td>\n",
       "      <td>0.000000</td>\n",
       "      <td>2.000000</td>\n",
       "      <td>18.000000</td>\n",
       "      <td>1.000000</td>\n",
       "      <td>0.000000</td>\n",
       "      <td>0.000000</td>\n",
       "    </tr>\n",
       "    <tr>\n",
       "      <th>75%</th>\n",
       "      <td>0.000000</td>\n",
       "      <td>36.000000</td>\n",
       "      <td>1.000000</td>\n",
       "      <td>1000.000000</td>\n",
       "      <td>0.000000</td>\n",
       "      <td>2.000000</td>\n",
       "      <td>3.000000</td>\n",
       "      <td>32.000000</td>\n",
       "      <td>13.000000</td>\n",
       "      <td>1.000000</td>\n",
       "      <td>0.000000</td>\n",
       "    </tr>\n",
       "    <tr>\n",
       "      <th>max</th>\n",
       "      <td>1.000000</td>\n",
       "      <td>1807.000000</td>\n",
       "      <td>600.000000</td>\n",
       "      <td>10000.000000</td>\n",
       "      <td>1.000000</td>\n",
       "      <td>68.000000</td>\n",
       "      <td>21.000000</td>\n",
       "      <td>666.000000</td>\n",
       "      <td>879.000000</td>\n",
       "      <td>1.000000</td>\n",
       "      <td>1.000000</td>\n",
       "    </tr>\n",
       "  </tbody>\n",
       "</table>\n",
       "</div>"
      ],
      "text/plain": [
       "            churn    pageviews      admins     employees  usecompetitors  \\\n",
       "count  242.000000   242.000000  242.000000    242.000000      242.000000   \n",
       "mean     0.198347    71.194215    7.690083   2127.024793        0.206612   \n",
       "std      0.399581   199.306306   47.757242   3517.436949        0.405713   \n",
       "min      0.000000     0.000000    0.000000      0.000000        0.000000   \n",
       "25%      0.000000     0.000000    0.000000     50.000000        0.000000   \n",
       "50%      0.000000     3.000000    0.000000    500.000000        0.000000   \n",
       "75%      0.000000    36.000000    1.000000   1000.000000        0.000000   \n",
       "max      1.000000  1807.000000  600.000000  10000.000000        1.000000   \n",
       "\n",
       "       contractdays  associateddeals  timescontacted    sessions          FF  \\\n",
       "count    242.000000       242.000000      242.000000  242.000000  242.000000   \n",
       "mean       1.760331         2.107438       26.433884   34.082645    0.471074   \n",
       "std        5.423209         2.298481       47.863197   98.411625    0.500197   \n",
       "min        0.000000         0.000000        0.000000    0.000000    0.000000   \n",
       "25%        0.000000         1.000000        8.000000    0.000000    0.000000   \n",
       "50%        0.000000         2.000000       18.000000    1.000000    0.000000   \n",
       "75%        2.000000         3.000000       32.000000   13.000000    1.000000   \n",
       "max       68.000000        21.000000      666.000000  879.000000    1.000000   \n",
       "\n",
       "        strategic  \n",
       "count  242.000000  \n",
       "mean     0.194215  \n",
       "std      0.396415  \n",
       "min      0.000000  \n",
       "25%      0.000000  \n",
       "50%      0.000000  \n",
       "75%      0.000000  \n",
       "max      1.000000  "
      ]
     },
     "execution_count": 46,
     "metadata": {},
     "output_type": "execute_result"
    }
   ],
   "source": [
    "    df.describe()"
   ]
  },
  {
   "cell_type": "markdown",
   "metadata": {
    "_cell_guid": "58c0b85d-26a6-44f2-be97-dabef60a6083",
    "_uuid": "0b7e5ce03e5c6da5b31d28426c4b103b6e3291bc"
   },
   "source": [
    "### Churn By Gauge"
   ]
  },
  {
   "cell_type": "code",
   "execution_count": 47,
   "metadata": {
    "_cell_guid": "098304e5-11cd-4977-88ff-134b58cb785b",
    "_uuid": "68da3274171d6006e6da05c31a74d5ace44d120b"
   },
   "outputs": [
    {
     "data": {
      "text/plain": [
       "<matplotlib.axes._subplots.AxesSubplot at 0x238824de630>"
      ]
     },
     "execution_count": 47,
     "metadata": {},
     "output_type": "execute_result"
    },
    {
     "data": {
      "image/png": "[encoded data removed]",
      "text/plain": [
       "<Figure size 360x360 with 1 Axes>"
      ]
     },
     "metadata": {
      "needs_background": "light"
     },
     "output_type": "display_data"
    }
   ],
   "source": [
    "df.groupby([\"gauge\", \"churn\"]).size().unstack().plot(kind='bar', stacked=True, figsize=(5,5)) "
   ]
  },
  {
   "cell_type": "markdown",
   "metadata": {
    "_cell_guid": "fb5c8789-bc0c-4439-8ed5-a58daf68ce71",
    "_uuid": "78e2978d435e9a10c568d50113703b813ce0ea15"
   },
   "source": [
    "### Churn By Call Cycle"
   ]
  },
  {
   "cell_type": "code",
   "execution_count": 48,
   "metadata": {
    "_cell_guid": "90d0411e-8a88-42ce-bbe2-7d201edfd716",
    "_uuid": "590e158402076fdc683b4b8078b3b07bef060a85"
   },
   "outputs": [
    {
     "data": {
      "text/plain": [
       "<matplotlib.axes._subplots.AxesSubplot at 0x23882537dd8>"
      ]
     },
     "execution_count": 48,
     "metadata": {},
     "output_type": "execute_result"
    },
    {
     "data": {
      "image/png": "[encoded data removed]",
      "text/plain": [
       "<Figure size 2160x720 with 1 Axes>"
      ]
     },
     "metadata": {
      "needs_background": "light"
     },
     "output_type": "display_data"
    }
   ],
   "source": [
    "df.groupby([\"callcycle\", \"churn\"]).size().unstack().plot(kind='bar', stacked=True, figsize=(30,10)) "
   ]
  },
  {
   "cell_type": "markdown",
   "metadata": {
    "_cell_guid": "466abbf5-0923-4eb4-8a99-9d1a4c8344fa",
    "_uuid": "37617354d7a34411c0782165c5b6c6a9c80bb1b1"
   },
   "source": [
    "### Churn By Industry"
   ]
  },
  {
   "cell_type": "code",
   "execution_count": 49,
   "metadata": {
    "_cell_guid": "24a6ea96-e883-4de5-b9ba-8d6f9c3a934a",
    "_uuid": "aa434dd842477041da95c0e5068719da13398c7e"
   },
   "outputs": [
    {
     "data": {
      "text/plain": [
       "<matplotlib.axes._subplots.AxesSubplot at 0x238822bfa58>"
      ]
     },
     "execution_count": 49,
     "metadata": {},
     "output_type": "execute_result"
    },
    {
     "data": {
      "image/png": "[encoded data removed]",
      "text/plain": [
       "<Figure size 2160x720 with 1 Axes>"
      ]
     },
     "metadata": {
      "needs_background": "light"
     },
     "output_type": "display_data"
    }
   ],
   "source": [
    "df.groupby([\"industry\", \"churn\"]).size().unstack().plot(kind='bar', stacked=True, figsize=(30,10)) "
   ]
  },
  {
   "cell_type": "markdown",
   "metadata": {
    "_cell_guid": "2a47ffd9-9838-40ea-a6ab-397baa434d4e",
    "_uuid": "5420663aa16dc96695a6058832a9e0ac6348c6cc"
   },
   "source": [
    "### Churn By Strategic"
   ]
  },
  {
   "cell_type": "code",
   "execution_count": 50,
   "metadata": {
    "_cell_guid": "7c6940b0-fbdc-4a97-8a87-35429b6cf4fe",
    "_uuid": "987bfc1de29f68622d327528a97cbe9d27cf4061"
   },
   "outputs": [
    {
     "data": {
      "text/plain": [
       "<matplotlib.axes._subplots.AxesSubplot at 0x2388271efd0>"
      ]
     },
     "execution_count": 50,
     "metadata": {},
     "output_type": "execute_result"
    },
    {
     "data": {
      "image/png": "[encoded data removed]",
      "text/plain": [
       "<Figure size 360x360 with 1 Axes>"
      ]
     },
     "metadata": {
      "needs_background": "light"
     },
     "output_type": "display_data"
    }
   ],
   "source": [
    "df.groupby([\"strategic\", \"churn\"]).size().unstack().plot(kind='bar', stacked=True, figsize=(5,5)) "
   ]
  },
  {
   "cell_type": "markdown",
   "metadata": {
    "_cell_guid": "a433d6c1-580e-4499-b1db-715e3a0ce3f6",
    "_uuid": "e9fd0499ec7b8d51c9133d8b2f9cf53032123edf"
   },
   "source": [
    "# Handle Categorical Cols - One Hot Encoding"
   ]
  },
  {
   "cell_type": "code",
   "execution_count": 38,
   "metadata": {
    "_cell_guid": "449cc6d8-1e4a-46c5-b3f9-6e11efc679f2",
    "_uuid": "e01a4d6c82d896cf4190bb010435c806295c3b92"
   },
   "outputs": [
    {
     "data": {
      "text/plain": [
       "churn                           int64\n",
       "usecompetitors                  int64\n",
       "callcycle                      object\n",
       "sessions                        int64\n",
       "FF                              int64\n",
       "strategic                       int64\n",
       "callcycle_Every Other Month     uint8\n",
       "callcycle_Half Year             uint8\n",
       "callcycle_Monthly               uint8\n",
       "callcycle_None                  uint8\n",
       "callcycle_Quarterly             uint8\n",
       "callcycle_Yearly                uint8\n",
       "dtype: object"
      ]
     },
     "execution_count": 38,
     "metadata": {},
     "output_type": "execute_result"
    }
   ],
   "source": [
    "# One hot encode categoricals\n",
    "def encode_and_bind(original_dataframe, feature_to_encode):\n",
    "    dummies = pd.get_dummies(original_dataframe[[feature_to_encode]])\n",
    "    res = pd.concat([original_dataframe, dummies], axis=1)\n",
    "    return(res)\n",
    "\n",
    "df = encode_and_bind(df, 'callcycle')\n",
    "df = df.drop(['pageviews', 'admins','employees','contractdays','associateddeals','timescontacted',\n",
    "        'origsource','industry','gauge'], axis = 1) \n",
    "#df = encode_and_bind(df, 'gauge')\n",
    "\n",
    "df.dtypes"
   ]
  },
  {
   "cell_type": "code",
   "execution_count": 39,
   "metadata": {
    "_cell_guid": "02357128-49ad-4c31-b7c5-9042b4e3cbe4",
    "_uuid": "3a0cb357fcb26db41f7a918ecf958adc6f087897"
   },
   "outputs": [
    {
     "data": {
      "text/html": [
       "<div>\n",
       "<style scoped>\n",
       "    .dataframe tbody tr th:only-of-type {\n",
       "        vertical-align: middle;\n",
       "    }\n",
       "\n",
       "    .dataframe tbody tr th {\n",
       "        vertical-align: top;\n",
       "    }\n",
       "\n",
       "    .dataframe thead th {\n",
       "        text-align: right;\n",
       "    }\n",
       "</style>\n",
       "<table border=\"1\" class=\"dataframe\">\n",
       "  <thead>\n",
       "    <tr style=\"text-align: right;\">\n",
       "      <th></th>\n",
       "      <th>churn</th>\n",
       "      <th>usecompetitors</th>\n",
       "      <th>callcycle</th>\n",
       "      <th>sessions</th>\n",
       "      <th>FF</th>\n",
       "      <th>strategic</th>\n",
       "      <th>callcycle_Every Other Month</th>\n",
       "      <th>callcycle_Half Year</th>\n",
       "      <th>callcycle_Monthly</th>\n",
       "      <th>callcycle_None</th>\n",
       "      <th>callcycle_Quarterly</th>\n",
       "      <th>callcycle_Yearly</th>\n",
       "    </tr>\n",
       "  </thead>\n",
       "  <tbody>\n",
       "    <tr>\n",
       "      <th>0</th>\n",
       "      <td>0</td>\n",
       "      <td>0</td>\n",
       "      <td>Monthly</td>\n",
       "      <td>0</td>\n",
       "      <td>1</td>\n",
       "      <td>1</td>\n",
       "      <td>0</td>\n",
       "      <td>0</td>\n",
       "      <td>1</td>\n",
       "      <td>0</td>\n",
       "      <td>0</td>\n",
       "      <td>0</td>\n",
       "    </tr>\n",
       "    <tr>\n",
       "      <th>1</th>\n",
       "      <td>0</td>\n",
       "      <td>0</td>\n",
       "      <td>Quarterly</td>\n",
       "      <td>2</td>\n",
       "      <td>0</td>\n",
       "      <td>1</td>\n",
       "      <td>0</td>\n",
       "      <td>0</td>\n",
       "      <td>0</td>\n",
       "      <td>0</td>\n",
       "      <td>1</td>\n",
       "      <td>0</td>\n",
       "    </tr>\n",
       "    <tr>\n",
       "      <th>2</th>\n",
       "      <td>1</td>\n",
       "      <td>0</td>\n",
       "      <td>Quarterly</td>\n",
       "      <td>0</td>\n",
       "      <td>0</td>\n",
       "      <td>1</td>\n",
       "      <td>0</td>\n",
       "      <td>0</td>\n",
       "      <td>0</td>\n",
       "      <td>0</td>\n",
       "      <td>1</td>\n",
       "      <td>0</td>\n",
       "    </tr>\n",
       "    <tr>\n",
       "      <th>3</th>\n",
       "      <td>0</td>\n",
       "      <td>1</td>\n",
       "      <td>Every Other Month</td>\n",
       "      <td>0</td>\n",
       "      <td>0</td>\n",
       "      <td>1</td>\n",
       "      <td>1</td>\n",
       "      <td>0</td>\n",
       "      <td>0</td>\n",
       "      <td>0</td>\n",
       "      <td>0</td>\n",
       "      <td>0</td>\n",
       "    </tr>\n",
       "    <tr>\n",
       "      <th>4</th>\n",
       "      <td>0</td>\n",
       "      <td>0</td>\n",
       "      <td>Every Other Month</td>\n",
       "      <td>0</td>\n",
       "      <td>0</td>\n",
       "      <td>0</td>\n",
       "      <td>1</td>\n",
       "      <td>0</td>\n",
       "      <td>0</td>\n",
       "      <td>0</td>\n",
       "      <td>0</td>\n",
       "      <td>0</td>\n",
       "    </tr>\n",
       "  </tbody>\n",
       "</table>\n",
       "</div>"
      ],
      "text/plain": [
       "   churn  usecompetitors          callcycle  sessions  FF  strategic  \\\n",
       "0      0               0            Monthly         0   1          1   \n",
       "1      0               0          Quarterly         2   0          1   \n",
       "2      1               0          Quarterly         0   0          1   \n",
       "3      0               1  Every Other Month         0   0          1   \n",
       "4      0               0  Every Other Month         0   0          0   \n",
       "\n",
       "   callcycle_Every Other Month  callcycle_Half Year  callcycle_Monthly  \\\n",
       "0                            0                    0                  1   \n",
       "1                            0                    0                  0   \n",
       "2                            0                    0                  0   \n",
       "3                            1                    0                  0   \n",
       "4                            1                    0                  0   \n",
       "\n",
       "   callcycle_None  callcycle_Quarterly  callcycle_Yearly  \n",
       "0               0                    0                 0  \n",
       "1               0                    1                 0  \n",
       "2               0                    1                 0  \n",
       "3               0                    0                 0  \n",
       "4               0                    0                 0  "
      ]
     },
     "execution_count": 39,
     "metadata": {},
     "output_type": "execute_result"
    }
   ],
   "source": [
    "df.head()"
   ]
  },
  {
   "cell_type": "markdown",
   "metadata": {
    "_cell_guid": "3252b275-4dc8-47df-a517-e759e50dfaad",
    "_uuid": "621fbf18b62b229e3a08a48e355c95abf90e7d23"
   },
   "source": [
    "### Strip off Response values"
   ]
  },
  {
   "cell_type": "code",
   "execution_count": 40,
   "metadata": {
    "_cell_guid": "67b04047-639a-4b3d-b034-15252e523833",
    "_uuid": "123d6ecdd0205b238a09794d776c9cefa0cf0fde"
   },
   "outputs": [
    {
     "data": {
      "text/plain": [
       "242"
      ]
     },
     "execution_count": 40,
     "metadata": {},
     "output_type": "execute_result"
    }
   ],
   "source": [
    "y = df['churn'].values.astype(np.int)\n",
    "y.size"
   ]
  },
  {
   "cell_type": "markdown",
   "metadata": {
    "_cell_guid": "725b00bd-6d6e-4d82-a7f5-1eb4f00aa4de",
    "_uuid": "98f7694085c4fedf3b5bb55013a41c3747eb15a8"
   },
   "source": [
    "### Strip off Redundant cols"
   ]
  },
  {
   "cell_type": "code",
   "execution_count": 41,
   "metadata": {
    "_cell_guid": "e1bd8195-e8a2-43ee-be9b-8a743ec04b2a",
    "_uuid": "dab41be8e68be4d250d49e67ac6f3f27a8440fc0"
   },
   "outputs": [],
   "source": [
    "df.drop([\"callcycle\",\"churn\"], axis = 1, inplace=True)"
   ]
  },
  {
   "cell_type": "code",
   "execution_count": 42,
   "metadata": {
    "_cell_guid": "2e95129f-a389-41b0-bd51-58567760602a",
    "_kg_hide-input": false,
    "_kg_hide-output": false,
    "_uuid": "165d5f885d79337773f49d11eef5e938b7e2ba59"
   },
   "outputs": [
    {
     "data": {
      "text/html": [
       "<div>\n",
       "<style scoped>\n",
       "    .dataframe tbody tr th:only-of-type {\n",
       "        vertical-align: middle;\n",
       "    }\n",
       "\n",
       "    .dataframe tbody tr th {\n",
       "        vertical-align: top;\n",
       "    }\n",
       "\n",
       "    .dataframe thead th {\n",
       "        text-align: right;\n",
       "    }\n",
       "</style>\n",
       "<table border=\"1\" class=\"dataframe\">\n",
       "  <thead>\n",
       "    <tr style=\"text-align: right;\">\n",
       "      <th></th>\n",
       "      <th>usecompetitors</th>\n",
       "      <th>sessions</th>\n",
       "      <th>FF</th>\n",
       "      <th>strategic</th>\n",
       "      <th>callcycle_Every Other Month</th>\n",
       "      <th>callcycle_Half Year</th>\n",
       "      <th>callcycle_Monthly</th>\n",
       "      <th>callcycle_None</th>\n",
       "      <th>callcycle_Quarterly</th>\n",
       "      <th>callcycle_Yearly</th>\n",
       "    </tr>\n",
       "  </thead>\n",
       "  <tbody>\n",
       "    <tr>\n",
       "      <th>0</th>\n",
       "      <td>0</td>\n",
       "      <td>0</td>\n",
       "      <td>1</td>\n",
       "      <td>1</td>\n",
       "      <td>0</td>\n",
       "      <td>0</td>\n",
       "      <td>1</td>\n",
       "      <td>0</td>\n",
       "      <td>0</td>\n",
       "      <td>0</td>\n",
       "    </tr>\n",
       "    <tr>\n",
       "      <th>1</th>\n",
       "      <td>0</td>\n",
       "      <td>2</td>\n",
       "      <td>0</td>\n",
       "      <td>1</td>\n",
       "      <td>0</td>\n",
       "      <td>0</td>\n",
       "      <td>0</td>\n",
       "      <td>0</td>\n",
       "      <td>1</td>\n",
       "      <td>0</td>\n",
       "    </tr>\n",
       "    <tr>\n",
       "      <th>2</th>\n",
       "      <td>0</td>\n",
       "      <td>0</td>\n",
       "      <td>0</td>\n",
       "      <td>1</td>\n",
       "      <td>0</td>\n",
       "      <td>0</td>\n",
       "      <td>0</td>\n",
       "      <td>0</td>\n",
       "      <td>1</td>\n",
       "      <td>0</td>\n",
       "    </tr>\n",
       "  </tbody>\n",
       "</table>\n",
       "</div>"
      ],
      "text/plain": [
       "   usecompetitors  sessions  FF  strategic  callcycle_Every Other Month  \\\n",
       "0               0         0   1          1                            0   \n",
       "1               0         2   0          1                            0   \n",
       "2               0         0   0          1                            0   \n",
       "\n",
       "   callcycle_Half Year  callcycle_Monthly  callcycle_None  \\\n",
       "0                    0                  1               0   \n",
       "1                    0                  0               0   \n",
       "2                    0                  0               0   \n",
       "\n",
       "   callcycle_Quarterly  callcycle_Yearly  \n",
       "0                    0                 0  \n",
       "1                    1                 0  \n",
       "2                    1                 0  "
      ]
     },
     "execution_count": 42,
     "metadata": {},
     "output_type": "execute_result"
    }
   ],
   "source": [
    "df.head(3)"
   ]
  },
  {
   "cell_type": "markdown",
   "metadata": {},
   "source": [
    "### Dataset pared down by RFE Variable Importance"
   ]
  },
  {
   "cell_type": "markdown",
   "metadata": {
    "_cell_guid": "39386f53-ed18-420e-b6ec-f116a5495246",
    "_uuid": "e1da5e5cd567651a66179dbdb9c9edba0b591f03"
   },
   "source": [
    "### Build Feature Matrix"
   ]
  },
  {
   "cell_type": "code",
   "execution_count": 43,
   "metadata": {
    "_cell_guid": "fdc6ef47-46be-4a35-b7ca-97d4d5210d0a",
    "_uuid": "ea6659f92330270cb0e8c704f4a9372066292897"
   },
   "outputs": [],
   "source": [
    "X = df.values.astype(np.float)"
   ]
  },
  {
   "cell_type": "code",
   "execution_count": 44,
   "metadata": {
    "_cell_guid": "9aeb61c6-b6e2-4d31-9ca7-4360e1db2a28",
    "_uuid": "e326eca8ec77014a18a47137ccac6f39884caf3a"
   },
   "outputs": [
    {
     "data": {
      "text/plain": [
       "array([[  0.,   0.,   1., ...,   0.,   0.,   0.],\n",
       "       [  0.,   2.,   0., ...,   0.,   1.,   0.],\n",
       "       [  0.,   0.,   0., ...,   0.,   1.,   0.],\n",
       "       ...,\n",
       "       [  0., 158.,   1., ...,   0.,   1.,   0.],\n",
       "       [  0.,   2.,   1., ...,   1.,   0.,   0.],\n",
       "       [  1.,  89.,   1., ...,   0.,   0.,   0.]])"
      ]
     },
     "execution_count": 44,
     "metadata": {},
     "output_type": "execute_result"
    }
   ],
   "source": [
    "X"
   ]
  },
  {
   "cell_type": "code",
   "execution_count": 45,
   "metadata": {
    "_cell_guid": "d5243b57-af0a-4c3a-9242-1c7f20a7a9cd",
    "_uuid": "2dd19f8b942498c9e6c935d02b02865269cc1464"
   },
   "outputs": [
    {
     "data": {
      "text/plain": [
       "(242, 10)"
      ]
     },
     "execution_count": 45,
     "metadata": {},
     "output_type": "execute_result"
    }
   ],
   "source": [
    "X.shape"
   ]
  },
  {
   "cell_type": "markdown",
   "metadata": {
    "_cell_guid": "79949972-fab1-4787-b456-c21923ab54ae",
    "_uuid": "216dc293983dccf8428edbe955626d5b93be1b33"
   },
   "source": [
    "### Standardize Feature Matrix values"
   ]
  },
  {
   "cell_type": "code",
   "execution_count": 46,
   "metadata": {
    "_cell_guid": "52847a97-6c8a-476d-83c9-a008c98edd44",
    "_uuid": "cb8984ca0ef6d09b52aa64647abbc7720a777edc"
   },
   "outputs": [],
   "source": [
    "scaler = preprocessing.StandardScaler()\n",
    "X = scaler.fit_transform(X)"
   ]
  },
  {
   "cell_type": "code",
   "execution_count": 47,
   "metadata": {
    "_cell_guid": "1a263d4c-ea1d-4b7b-a1a7-1a8c427337f2",
    "_uuid": "f306048cefd584f73dbce175e592fcfa282b43ce"
   },
   "outputs": [
    {
     "data": {
      "text/plain": [
       "array([[-0.51031036, -0.3470452 ,  1.05962589, ..., -0.49094362,\n",
       "        -0.49094362, -0.91287093],\n",
       "       [-0.51031036, -0.32668028, -0.9437293 , ..., -0.49094362,\n",
       "         2.03689376, -0.91287093],\n",
       "       [-0.51031036, -0.3470452 , -0.9437293 , ..., -0.49094362,\n",
       "         2.03689376, -0.91287093],\n",
       "       ...,\n",
       "       [-0.51031036,  1.26178365,  1.05962589, ..., -0.49094362,\n",
       "         2.03689376, -0.91287093],\n",
       "       [-0.51031036, -0.32668028,  1.05962589, ...,  2.03689376,\n",
       "        -0.49094362, -0.91287093],\n",
       "       [ 1.95959179,  0.55919383,  1.05962589, ..., -0.49094362,\n",
       "        -0.49094362, -0.91287093]])"
      ]
     },
     "execution_count": 47,
     "metadata": {},
     "output_type": "execute_result"
    }
   ],
   "source": [
    "X"
   ]
  },
  {
   "cell_type": "markdown",
   "metadata": {
    "_cell_guid": "30d00638-5352-4e80-b075-5336e145ff6d",
    "_uuid": "39714e04e000a32ac712b1ed4c17c23958298ad5"
   },
   "source": [
    "### Stratified Cross Validation - Since the Response values are not balanced"
   ]
  },
  {
   "cell_type": "code",
   "execution_count": 48,
   "metadata": {
    "_cell_guid": "475e6f87-3e17-4b9c-8a61-1f2a2221addf",
    "_uuid": "dd67120e2892ea8ba3a71e517286a7f598fbaf4a"
   },
   "outputs": [],
   "source": [
    "def stratified_cv(X, y, clf_class, shuffle=True, n_folds=10, **kwargs):\n",
    "    stratified_k_fold = StratifiedKFold(n_splits=n_folds, shuffle=shuffle)\n",
    "    y_pred = y.copy()\n",
    "    # ii -> train\n",
    "    # jj -> test indices\n",
    "    for ii, jj in stratified_k_fold.split(X,y): \n",
    "        X_train, X_test = X[ii], X[jj]\n",
    "        y_train = y[ii]\n",
    "        clf = clf_class(**kwargs)\n",
    "        clf.fit(X_train,y_train)\n",
    "        y_pred[jj] = clf.predict(X_test)\n",
    "    return y_pred"
   ]
  },
  {
   "cell_type": "markdown",
   "metadata": {
    "_cell_guid": "f04e2b75-a019-4b40-bc4b-606a70b3d18f",
    "_uuid": "11a2d46c102d7ff05b1f97c0f10e43a0f833f910"
   },
   "source": [
    "### Build Models and Train"
   ]
  },
  {
   "cell_type": "code",
   "execution_count": 49,
   "metadata": {
    "_cell_guid": "a463a62e-93c1-4ca0-ae3b-723523b8d5b0",
    "_uuid": "454e2833bb27702062f888a9ce0efb8135f985f9",
    "scrolled": true
   },
   "outputs": [
    {
     "name": "stdout",
     "output_type": "stream",
     "text": [
      "Gradient Boosting Classifier:  0.85\n",
      "Support vector machine(SVM):   0.83\n",
      "Random Forest Classifier:      0.84\n",
      "K Nearest Neighbor Classifier: 0.82\n",
      "Logistic Regression:           0.86\n"
     ]
    }
   ],
   "source": [
    "import warnings\n",
    "warnings.filterwarnings('ignore')\n",
    "\n",
    "print('Gradient Boosting Classifier:  {:.2f}'.format(metrics.accuracy_score(y, stratified_cv(X, y, ensemble.GradientBoostingClassifier))))\n",
    "print('Support vector machine(SVM):   {:.2f}'.format(metrics.accuracy_score(y, stratified_cv(X, y, svm.SVC))))\n",
    "print('Random Forest Classifier:      {:.2f}'.format(metrics.accuracy_score(y, stratified_cv(X, y, ensemble.RandomForestClassifier))))\n",
    "print('K Nearest Neighbor Classifier: {:.2f}'.format(metrics.accuracy_score(y, stratified_cv(X, y, neighbors.KNeighborsClassifier))))\n",
    "print('Logistic Regression:           {:.2f}'.format(metrics.accuracy_score(y, stratified_cv(X, y, linear_model.LogisticRegression))))"
   ]
  },
  {
   "cell_type": "markdown",
   "metadata": {},
   "source": [
    "### Hyperparameter Tuning"
   ]
  },
  {
   "cell_type": "code",
   "execution_count": 50,
   "metadata": {},
   "outputs": [],
   "source": [
    "from sklearn.model_selection import GridSearchCV"
   ]
  },
  {
   "cell_type": "code",
   "execution_count": 51,
   "metadata": {},
   "outputs": [],
   "source": [
    "ridge = linear_model.Ridge()\n",
    "lasso = linear_model.Lasso()\n",
    "elastic = linear_model.ElasticNet()\n",
    "lasso_lars = linear_model.LassoLars()\n",
    "bayesian_ridge = linear_model.BayesianRidge()\n",
    "logistic = linear_model.LogisticRegression(solver='liblinear')\n",
    "sgd = linear_model.SGDClassifier()"
   ]
  },
  {
   "cell_type": "code",
   "execution_count": 67,
   "metadata": {},
   "outputs": [],
   "source": [
    "#Hyperparameter Tuning, Logistic Regression\n",
    "# penalty = ['l1', 'l2']\n",
    "# C = [0.0001, 0.001, 0.01, 0.1, 1, 10, 100, 1000]\n",
    "# class_weight = [{1:0.5, 0:0.5}, {1:0.4, 0:0.6}, {1:0.6, 0:0.4}, {1:0.7, 0:0.3}]\n",
    "# solver = ['liblinear', 'saga']\n",
    "\n",
    "# param_grid = dict(penalty=penalty,\n",
    "#                   C=C,\n",
    "#                   class_weight=class_weight,\n",
    "#                   solver=solver)\n",
    "\n",
    "# #Hyperparameter Tuning, Logistic Regression\n",
    "\n",
    "# grid = GridSearchCV(estimator=logistic,\n",
    "#                     param_grid=param_grid,\n",
    "#                     scoring='roc_auc',\n",
    "#                     verbose=0,\n",
    "#                     n_jobs=-1)\n",
    "\n",
    "\n",
    "#Hyperparameter Tuning, Logistic Regression\n",
    "param_grid_logreg = {'penalty':['l1', 'l2', 'elasticnet'],\n",
    "                     'C':[0.0001, 0.001, 0.01, 0.1, 1, 10, 100, 1000],\n",
    "                     'class_weight':[{1:0.5, 0:0.5}, {1:0.4, 0:0.6}, {1:0.6, 0:0.4}, {1:0.7, 0:0.3}],\n",
    "                     'solver':['liblinear', 'saga']}\n",
    "\n",
    "#Define the grid search space\n",
    "grid_logreg = GridSearchCV(logistic, param_grid_logreg, refit = True, verbose = 0)"
   ]
  },
  {
   "cell_type": "code",
   "execution_count": 69,
   "metadata": {},
   "outputs": [
    {
     "name": "stdout",
     "output_type": "stream",
     "text": [
      "      score  \\\n",
      "0  0.843975   \n",
      "\n",
      "                                                                                params  \n",
      "0  {'C': 10, 'class_weight': {1: 0.5, 0: 0.5}, 'penalty': 'l1', 'solver': 'liblinear'}  \n",
      "     score  \\\n",
      "0  0.84852   \n",
      "\n",
      "                                                                                params  \n",
      "0  {'C': 10, 'class_weight': {1: 0.5, 0: 0.5}, 'penalty': 'l1', 'solver': 'liblinear'}  \n",
      "      score  \\\n",
      "0  0.839958   \n",
      "\n",
      "                                                                                 params  \n",
      "0  {'C': 100, 'class_weight': {1: 0.5, 0: 0.5}, 'penalty': 'l1', 'solver': 'liblinear'}  \n",
      "      score  \\\n",
      "0  0.854017   \n",
      "\n",
      "                                                                                params  \n",
      "0  {'C': 10, 'class_weight': {1: 0.5, 0: 0.5}, 'penalty': 'l1', 'solver': 'liblinear'}  \n",
      "      score  \\\n",
      "0  0.863108   \n",
      "\n",
      "                                                                           params  \n",
      "0  {'C': 10, 'class_weight': {1: 0.5, 0: 0.5}, 'penalty': 'l2', 'solver': 'saga'}  \n",
      "      score  \\\n",
      "0  0.858351   \n",
      "\n",
      "                                                                                params  \n",
      "0  {'C': 10, 'class_weight': {1: 0.5, 0: 0.5}, 'penalty': 'l1', 'solver': 'liblinear'}  \n",
      "      score  \\\n",
      "0  0.853911   \n",
      "\n",
      "                                                                           params  \n",
      "0  {'C': 10, 'class_weight': {1: 0.5, 0: 0.5}, 'penalty': 'l1', 'solver': 'saga'}  \n",
      "      score  \\\n",
      "0  0.858562   \n",
      "\n",
      "                                                                           params  \n",
      "0  {'C': 10, 'class_weight': {1: 0.5, 0: 0.5}, 'penalty': 'l1', 'solver': 'saga'}  \n",
      "      score  \\\n",
      "0  0.881395   \n",
      "\n",
      "                                                                                params  \n",
      "0  {'C': 10, 'class_weight': {1: 0.5, 0: 0.5}, 'penalty': 'l1', 'solver': 'liblinear'}  \n",
      "      score  \\\n",
      "0  0.858562   \n",
      "\n",
      "                                                                           params  \n",
      "0  {'C': 10, 'class_weight': {1: 0.5, 0: 0.5}, 'penalty': 'l1', 'solver': 'saga'}  \n"
     ]
    },
    {
     "data": {
      "text/html": [
       "<div>\n",
       "<style scoped>\n",
       "    .dataframe tbody tr th:only-of-type {\n",
       "        vertical-align: middle;\n",
       "    }\n",
       "\n",
       "    .dataframe tbody tr th {\n",
       "        vertical-align: top;\n",
       "    }\n",
       "\n",
       "    .dataframe thead th {\n",
       "        text-align: right;\n",
       "    }\n",
       "</style>\n",
       "<table border=\"1\" class=\"dataframe\">\n",
       "  <thead>\n",
       "    <tr style=\"text-align: right;\">\n",
       "      <th></th>\n",
       "      <th>score</th>\n",
       "      <th>params</th>\n",
       "    </tr>\n",
       "  </thead>\n",
       "  <tbody>\n",
       "    <tr>\n",
       "      <th>8</th>\n",
       "      <td>0.881395</td>\n",
       "      <td>{'C': 10, 'class_weight': {1: 0.5, 0: 0.5}, 'penalty': 'l1', 'solver': 'liblinear'}</td>\n",
       "    </tr>\n",
       "    <tr>\n",
       "      <th>4</th>\n",
       "      <td>0.863108</td>\n",
       "      <td>{'C': 10, 'class_weight': {1: 0.5, 0: 0.5}, 'penalty': 'l2', 'solver': 'saga'}</td>\n",
       "    </tr>\n",
       "    <tr>\n",
       "      <th>7</th>\n",
       "      <td>0.858562</td>\n",
       "      <td>{'C': 10, 'class_weight': {1: 0.5, 0: 0.5}, 'penalty': 'l1', 'solver': 'saga'}</td>\n",
       "    </tr>\n",
       "    <tr>\n",
       "      <th>9</th>\n",
       "      <td>0.858562</td>\n",
       "      <td>{'C': 10, 'class_weight': {1: 0.5, 0: 0.5}, 'penalty': 'l1', 'solver': 'saga'}</td>\n",
       "    </tr>\n",
       "    <tr>\n",
       "      <th>5</th>\n",
       "      <td>0.858351</td>\n",
       "      <td>{'C': 10, 'class_weight': {1: 0.5, 0: 0.5}, 'penalty': 'l1', 'solver': 'liblinear'}</td>\n",
       "    </tr>\n",
       "    <tr>\n",
       "      <th>3</th>\n",
       "      <td>0.854017</td>\n",
       "      <td>{'C': 10, 'class_weight': {1: 0.5, 0: 0.5}, 'penalty': 'l1', 'solver': 'liblinear'}</td>\n",
       "    </tr>\n",
       "    <tr>\n",
       "      <th>6</th>\n",
       "      <td>0.853911</td>\n",
       "      <td>{'C': 10, 'class_weight': {1: 0.5, 0: 0.5}, 'penalty': 'l1', 'solver': 'saga'}</td>\n",
       "    </tr>\n",
       "    <tr>\n",
       "      <th>1</th>\n",
       "      <td>0.848520</td>\n",
       "      <td>{'C': 10, 'class_weight': {1: 0.5, 0: 0.5}, 'penalty': 'l1', 'solver': 'liblinear'}</td>\n",
       "    </tr>\n",
       "    <tr>\n",
       "      <th>0</th>\n",
       "      <td>0.843975</td>\n",
       "      <td>{'C': 10, 'class_weight': {1: 0.5, 0: 0.5}, 'penalty': 'l1', 'solver': 'liblinear'}</td>\n",
       "    </tr>\n",
       "    <tr>\n",
       "      <th>2</th>\n",
       "      <td>0.839958</td>\n",
       "      <td>{'C': 100, 'class_weight': {1: 0.5, 0: 0.5}, 'penalty': 'l1', 'solver': 'liblinear'}</td>\n",
       "    </tr>\n",
       "  </tbody>\n",
       "</table>\n",
       "</div>"
      ],
      "text/plain": [
       "      score  \\\n",
       "8  0.881395   \n",
       "4  0.863108   \n",
       "7  0.858562   \n",
       "9  0.858562   \n",
       "5  0.858351   \n",
       "3  0.854017   \n",
       "6  0.853911   \n",
       "1  0.848520   \n",
       "0  0.843975   \n",
       "2  0.839958   \n",
       "\n",
       "                                                                                 params  \n",
       "8  {'C': 10, 'class_weight': {1: 0.5, 0: 0.5}, 'penalty': 'l1', 'solver': 'liblinear'}   \n",
       "4  {'C': 10, 'class_weight': {1: 0.5, 0: 0.5}, 'penalty': 'l2', 'solver': 'saga'}        \n",
       "7  {'C': 10, 'class_weight': {1: 0.5, 0: 0.5}, 'penalty': 'l1', 'solver': 'saga'}        \n",
       "9  {'C': 10, 'class_weight': {1: 0.5, 0: 0.5}, 'penalty': 'l1', 'solver': 'saga'}        \n",
       "5  {'C': 10, 'class_weight': {1: 0.5, 0: 0.5}, 'penalty': 'l1', 'solver': 'liblinear'}   \n",
       "3  {'C': 10, 'class_weight': {1: 0.5, 0: 0.5}, 'penalty': 'l1', 'solver': 'liblinear'}   \n",
       "6  {'C': 10, 'class_weight': {1: 0.5, 0: 0.5}, 'penalty': 'l1', 'solver': 'saga'}        \n",
       "1  {'C': 10, 'class_weight': {1: 0.5, 0: 0.5}, 'penalty': 'l1', 'solver': 'liblinear'}   \n",
       "0  {'C': 10, 'class_weight': {1: 0.5, 0: 0.5}, 'penalty': 'l1', 'solver': 'liblinear'}   \n",
       "2  {'C': 100, 'class_weight': {1: 0.5, 0: 0.5}, 'penalty': 'l1', 'solver': 'liblinear'}  "
      ]
     },
     "execution_count": 69,
     "metadata": {},
     "output_type": "execute_result"
    }
   ],
   "source": [
    "def stratified_cv_logreg(X, y, clf_class, shuffle=True, n_folds=10, **kwargs):\n",
    "    grid_out_logreg = pd.DataFrame(columns=['score', 'params'])\n",
    "    \n",
    "    stratified_k_fold = StratifiedKFold(n_splits=n_folds, shuffle=shuffle)\n",
    "    y_pred = y.copy()\n",
    "    # ii -> train\n",
    "    # jj -> test indices\n",
    "    for ii, jj in stratified_k_fold.split(X,y): \n",
    "        X_train, X_test = X[ii], X[jj]\n",
    "        y_train = y[ii]\n",
    "        clf = clf_class(**kwargs)\n",
    "        clf.fit(X_train,y_train)\n",
    "        y_pred[jj] = clf.predict(X_test)\n",
    "        \n",
    "        #Hyperparameter Tuning\n",
    "        grid_result_logreg = grid_logreg.fit(X_train, y_train)\n",
    "        \n",
    "        new_row = pd.DataFrame([[grid_result_logreg.best_score_, grid_result_logreg.best_params_]], \n",
    "                               columns=['score', 'params'])\n",
    "        print(new_row)\n",
    "        grid_out_logreg = grid_out_logreg.append(new_row, ignore_index = True)\n",
    "    return grid_out_logreg\n",
    "    \n",
    "hyper_logreg = stratified_cv_logreg(X, y, linear_model.LogisticRegression)\n",
    "hyper_logreg.sort_values(by='score', ascending = False)"
   ]
  },
  {
   "cell_type": "code",
   "execution_count": 53,
   "metadata": {},
   "outputs": [],
   "source": [
    "#Hyperparameter Tuning, SVM\n",
    "param_grid_svc = {'C': [0.1, 1, 10, 100, 1000],  \n",
    "              'gamma': [1, 0.1, 0.01, 0.001, 0.0001], \n",
    "              'kernel': ['rbf']}\n",
    "\n",
    "#Define the grid search space\n",
    "grid_svc = GridSearchCV(svm.SVC(), param_grid_svc, refit = True, verbose = 0)"
   ]
  },
  {
   "cell_type": "code",
   "execution_count": 54,
   "metadata": {},
   "outputs": [
    {
     "name": "stdout",
     "output_type": "stream",
     "text": [
      "      score                                      params\n",
      "0  0.866702  {'C': 100, 'gamma': 0.01, 'kernel': 'rbf'}\n",
      "      score                                 params\n",
      "0  0.848414  {'C': 1, 'gamma': 1, 'kernel': 'rbf'}\n",
      "      score                                      params\n",
      "0  0.853911  {'C': 100, 'gamma': 0.01, 'kernel': 'rbf'}\n",
      "      score                                      params\n",
      "0  0.853805  {'C': 100, 'gamma': 0.01, 'kernel': 'rbf'}\n",
      "      score                                      params\n",
      "0  0.858351  {'C': 100, 'gamma': 0.01, 'kernel': 'rbf'}\n",
      "      score                                      params\n",
      "0  0.867653  {'C': 100, 'gamma': 0.01, 'kernel': 'rbf'}\n",
      "      score                                      params\n",
      "0  0.849154  {'C': 100, 'gamma': 0.01, 'kernel': 'rbf'}\n",
      "     score                                      params\n",
      "0  0.84482  {'C': 100, 'gamma': 0.01, 'kernel': 'rbf'}\n",
      "      score                                      params\n",
      "0  0.853805  {'C': 100, 'gamma': 0.01, 'kernel': 'rbf'}\n",
      "      score                                      params\n",
      "0  0.872093  {'C': 100, 'gamma': 0.01, 'kernel': 'rbf'}\n"
     ]
    },
    {
     "data": {
      "text/html": [
       "<div>\n",
       "<style scoped>\n",
       "    .dataframe tbody tr th:only-of-type {\n",
       "        vertical-align: middle;\n",
       "    }\n",
       "\n",
       "    .dataframe tbody tr th {\n",
       "        vertical-align: top;\n",
       "    }\n",
       "\n",
       "    .dataframe thead th {\n",
       "        text-align: right;\n",
       "    }\n",
       "</style>\n",
       "<table border=\"1\" class=\"dataframe\">\n",
       "  <thead>\n",
       "    <tr style=\"text-align: right;\">\n",
       "      <th></th>\n",
       "      <th>score</th>\n",
       "      <th>params</th>\n",
       "    </tr>\n",
       "  </thead>\n",
       "  <tbody>\n",
       "    <tr>\n",
       "      <th>9</th>\n",
       "      <td>0.872093</td>\n",
       "      <td>{'C': 100, 'gamma': 0.01, 'kernel': 'rbf'}</td>\n",
       "    </tr>\n",
       "    <tr>\n",
       "      <th>5</th>\n",
       "      <td>0.867653</td>\n",
       "      <td>{'C': 100, 'gamma': 0.01, 'kernel': 'rbf'}</td>\n",
       "    </tr>\n",
       "    <tr>\n",
       "      <th>0</th>\n",
       "      <td>0.866702</td>\n",
       "      <td>{'C': 100, 'gamma': 0.01, 'kernel': 'rbf'}</td>\n",
       "    </tr>\n",
       "    <tr>\n",
       "      <th>4</th>\n",
       "      <td>0.858351</td>\n",
       "      <td>{'C': 100, 'gamma': 0.01, 'kernel': 'rbf'}</td>\n",
       "    </tr>\n",
       "    <tr>\n",
       "      <th>2</th>\n",
       "      <td>0.853911</td>\n",
       "      <td>{'C': 100, 'gamma': 0.01, 'kernel': 'rbf'}</td>\n",
       "    </tr>\n",
       "    <tr>\n",
       "      <th>3</th>\n",
       "      <td>0.853805</td>\n",
       "      <td>{'C': 100, 'gamma': 0.01, 'kernel': 'rbf'}</td>\n",
       "    </tr>\n",
       "    <tr>\n",
       "      <th>8</th>\n",
       "      <td>0.853805</td>\n",
       "      <td>{'C': 100, 'gamma': 0.01, 'kernel': 'rbf'}</td>\n",
       "    </tr>\n",
       "    <tr>\n",
       "      <th>6</th>\n",
       "      <td>0.849154</td>\n",
       "      <td>{'C': 100, 'gamma': 0.01, 'kernel': 'rbf'}</td>\n",
       "    </tr>\n",
       "    <tr>\n",
       "      <th>1</th>\n",
       "      <td>0.848414</td>\n",
       "      <td>{'C': 1, 'gamma': 1, 'kernel': 'rbf'}</td>\n",
       "    </tr>\n",
       "    <tr>\n",
       "      <th>7</th>\n",
       "      <td>0.844820</td>\n",
       "      <td>{'C': 100, 'gamma': 0.01, 'kernel': 'rbf'}</td>\n",
       "    </tr>\n",
       "  </tbody>\n",
       "</table>\n",
       "</div>"
      ],
      "text/plain": [
       "      score                                      params\n",
       "9  0.872093  {'C': 100, 'gamma': 0.01, 'kernel': 'rbf'}\n",
       "5  0.867653  {'C': 100, 'gamma': 0.01, 'kernel': 'rbf'}\n",
       "0  0.866702  {'C': 100, 'gamma': 0.01, 'kernel': 'rbf'}\n",
       "4  0.858351  {'C': 100, 'gamma': 0.01, 'kernel': 'rbf'}\n",
       "2  0.853911  {'C': 100, 'gamma': 0.01, 'kernel': 'rbf'}\n",
       "3  0.853805  {'C': 100, 'gamma': 0.01, 'kernel': 'rbf'}\n",
       "8  0.853805  {'C': 100, 'gamma': 0.01, 'kernel': 'rbf'}\n",
       "6  0.849154  {'C': 100, 'gamma': 0.01, 'kernel': 'rbf'}\n",
       "1  0.848414       {'C': 1, 'gamma': 1, 'kernel': 'rbf'}\n",
       "7  0.844820  {'C': 100, 'gamma': 0.01, 'kernel': 'rbf'}"
      ]
     },
     "execution_count": 54,
     "metadata": {},
     "output_type": "execute_result"
    }
   ],
   "source": [
    "def stratified_cv_svc(X, y, clf_class, shuffle=True, n_folds=10, **kwargs):\n",
    "    grid_out_svc = pd.DataFrame(columns=['score', 'params'])\n",
    "    \n",
    "    stratified_k_fold = StratifiedKFold(n_splits=n_folds, shuffle=shuffle)\n",
    "    y_pred = y.copy()\n",
    "    # ii -> train\n",
    "    # jj -> test indices\n",
    "    for ii, jj in stratified_k_fold.split(X,y): \n",
    "        X_train, X_test = X[ii], X[jj]\n",
    "        y_train = y[ii]\n",
    "        clf = clf_class(**kwargs)\n",
    "        clf.fit(X_train,y_train)\n",
    "        y_pred[jj] = clf.predict(X_test)\n",
    "        #Hyperparameter Tuning\n",
    "        grid_result_svc = grid_svc.fit(X_train, y_train)\n",
    "        new_row = pd.DataFrame([[grid_result_svc.best_score_, \n",
    "                                 grid_result_svc.best_params_]], \n",
    "                               columns=['score', 'params'])\n",
    "        \n",
    "        #Check out ROC in parallel to best_score\n",
    "        #Precision Recall Curves if data is inherently imbalanced; specificity vs sensitivity\n",
    "        #Adjusting C for misclassifications\n",
    "        \n",
    "        print(new_row)\n",
    "        grid_out_svc = grid_out_svc.append(new_row, ignore_index = True)\n",
    "        #grid_out_svc.append(new_row, ignore_index = True)\n",
    "    #return grid_out_svc\n",
    "    return grid_out_svc\n",
    "    \n",
    "    #return grid_result_svc\n",
    "#grid_out_svc = stratified_cv_svc(X, y, svm.SVC)\n",
    "\n",
    "#print('Previous Score: ', metrics.accuracy_score(y, stratified_cv(X, y, svm.SVC)))\n",
    "hyper_svc = stratified_cv_svc(X, y, svm.SVC)\n",
    "hyper_svc.sort_values(by='score', ascending = False)"
   ]
  },
  {
   "cell_type": "markdown",
   "metadata": {
    "_cell_guid": "ffbe3e5c-5c27-4b7b-a553-e4262e5ce6fb",
    "_uuid": "04d43d8fcbb190eade50b4de51171daa116e946a"
   },
   "source": [
    "### Confusion Matrices for various models"
   ]
  },
  {
   "cell_type": "code",
   "execution_count": 72,
   "metadata": {
    "_cell_guid": "0e58445b-3334-4261-9d91-03b04bbdcedf",
    "_uuid": "8c6b783e179539d67545b3cca4d2aa9551059171"
   },
   "outputs": [
    {
     "data": {
      "image/png": "[encoded data removed]",
      "text/plain": [
       "<Figure size 432x288 with 2 Axes>"
      ]
     },
     "metadata": {
      "needs_background": "light"
     },
     "output_type": "display_data"
    }
   ],
   "source": [
    "grad_ens_conf_matrix      = metrics.confusion_matrix(y, stratified_cv(X, y, ensemble.GradientBoostingClassifier))\n",
    "sns.heatmap(grad_ens_conf_matrix, annot=True,  fmt='');\n",
    "title = 'Gradient Boosting'\n",
    "plt.title(title);"
   ]
  },
  {
   "cell_type": "code",
   "execution_count": 75,
   "metadata": {
    "_cell_guid": "e3a143d5-6506-4470-b68f-c36a61084058",
    "_uuid": "4ab168efde576acc28367de8c30d50f0f3e344ff"
   },
   "outputs": [
    {
     "data": {
      "image/png": "[encoded data removed]",
      "text/plain": [
       "<Figure size 432x288 with 2 Axes>"
      ]
     },
     "metadata": {
      "needs_background": "light"
     },
     "output_type": "display_data"
    }
   ],
   "source": [
    "svm_svc_conf_matrix       = metrics.confusion_matrix(y, stratified_cv(X, y, svm.SVC))\n",
    "sns.heatmap(svm_svc_conf_matrix, annot=True,  fmt='');\n",
    "title = 'SVM'\n",
    "plt.title(title);"
   ]
  },
  {
   "cell_type": "code",
   "execution_count": 74,
   "metadata": {
    "_cell_guid": "9547e54a-d0fb-4793-9c2d-b42d96e49d80",
    "_uuid": "a98864ca689d21ac68ec20fe76d68fa6d13466f2"
   },
   "outputs": [
    {
     "data": {
      "image/png": "[encoded data removed]",
      "text/plain": [
       "<Figure size 432x288 with 2 Axes>"
      ]
     },
     "metadata": {
      "needs_background": "light"
     },
     "output_type": "display_data"
    }
   ],
   "source": [
    "random_forest_conf_matrix = metrics.confusion_matrix(y, stratified_cv(X, y, ensemble.RandomForestClassifier))\n",
    "sns.heatmap(random_forest_conf_matrix, annot=True,  fmt='');\n",
    "title = 'Random Forest'\n",
    "plt.title(title);"
   ]
  },
  {
   "cell_type": "code",
   "execution_count": 76,
   "metadata": {
    "_cell_guid": "8a5546e2-7e80-45c7-9e20-a2e016528746",
    "_uuid": "c4e22980a7e7a729254c5f301a97d52af02c8897"
   },
   "outputs": [
    {
     "data": {
      "image/png": "[encoded data removed]",
      "text/plain": [
       "<Figure size 432x288 with 2 Axes>"
      ]
     },
     "metadata": {
      "needs_background": "light"
     },
     "output_type": "display_data"
    }
   ],
   "source": [
    "k_neighbors_conf_matrix   = metrics.confusion_matrix(y, stratified_cv(X, y, neighbors.KNeighborsClassifier))\n",
    "sns.heatmap(k_neighbors_conf_matrix, annot=True,  fmt='');\n",
    "title = 'KNN'\n",
    "plt.title(title);"
   ]
  },
  {
   "cell_type": "code",
   "execution_count": 77,
   "metadata": {
    "_cell_guid": "6dd055d6-d5e7-4f8c-a4ad-2d8461d91c71",
    "_uuid": "12ce331d2962d5b8ead17f756b4916743f9c21cb"
   },
   "outputs": [
    {
     "data": {
      "image/png": "[encoded data removed]",
      "text/plain": [
       "<Figure size 432x288 with 2 Axes>"
      ]
     },
     "metadata": {
      "needs_background": "light"
     },
     "output_type": "display_data"
    }
   ],
   "source": [
    "logistic_reg_conf_matrix  = metrics.confusion_matrix(y, stratified_cv(X, y, linear_model.LogisticRegression))\n",
    "sns.heatmap(logistic_reg_conf_matrix, annot=True,  fmt='');\n",
    "title = 'Logistic Regression'\n",
    "plt.title(title);"
   ]
  },
  {
   "cell_type": "markdown",
   "metadata": {
    "_cell_guid": "ccbed6d4-6e11-4f38-b7b4-a0e2d402318a",
    "_uuid": "40ad782af75e023aa24c3b1cc05e6f926d314ff6"
   },
   "source": [
    "### classification_report"
   ]
  },
  {
   "cell_type": "code",
   "execution_count": 78,
   "metadata": {
    "_cell_guid": "233ca82a-b951-4642-9ebf-ee07442e3b44",
    "_uuid": "84f3861c18efcdcfa44d9e5cd41cf350bf7223e5"
   },
   "outputs": [
    {
     "name": "stdout",
     "output_type": "stream",
     "text": [
      "Gradient Boosting Classifier:\n",
      "               precision    recall  f1-score   support\n",
      "\n",
      "           0       0.90      0.94      0.92       194\n",
      "           1       0.69      0.56      0.62        48\n",
      "\n",
      "    accuracy                           0.86       242\n",
      "   macro avg       0.79      0.75      0.77       242\n",
      "weighted avg       0.86      0.86      0.86       242\n",
      "\n",
      "\n",
      "Support vector machine(SVM):\n",
      "               precision    recall  f1-score   support\n",
      "\n",
      "           0       0.89      0.96      0.92       194\n",
      "           1       0.76      0.52      0.62        48\n",
      "\n",
      "    accuracy                           0.87       242\n",
      "   macro avg       0.82      0.74      0.77       242\n",
      "weighted avg       0.86      0.87      0.86       242\n",
      "\n",
      "\n",
      "Random Forest Classifier:\n",
      "               precision    recall  f1-score   support\n",
      "\n",
      "           0       0.87      0.96      0.91       194\n",
      "           1       0.70      0.40      0.51        48\n",
      "\n",
      "    accuracy                           0.85       242\n",
      "   macro avg       0.78      0.68      0.71       242\n",
      "weighted avg       0.83      0.85      0.83       242\n",
      "\n",
      "\n",
      "K Nearest Neighbor Classifier:\n",
      "               precision    recall  f1-score   support\n",
      "\n",
      "           0       0.88      0.95      0.91       194\n",
      "           1       0.70      0.48      0.57        48\n",
      "\n",
      "    accuracy                           0.86       242\n",
      "   macro avg       0.79      0.71      0.74       242\n",
      "weighted avg       0.84      0.86      0.84       242\n",
      "\n",
      "\n",
      "Logistic Regression:\n",
      "               precision    recall  f1-score   support\n",
      "\n",
      "           0       0.88      0.94      0.91       194\n",
      "           1       0.69      0.50      0.58        48\n",
      "\n",
      "    accuracy                           0.86       242\n",
      "   macro avg       0.78      0.72      0.75       242\n",
      "weighted avg       0.84      0.86      0.85       242\n",
      "\n",
      "\n"
     ]
    }
   ],
   "source": [
    "print('Gradient Boosting Classifier:\\n {}\\n'.format(metrics.classification_report(y, stratified_cv(X, y, ensemble.GradientBoostingClassifier))))\n",
    "print('Support vector machine(SVM):\\n {}\\n'.format(metrics.classification_report(y, stratified_cv(X, y, svm.SVC))))\n",
    "print('Random Forest Classifier:\\n {}\\n'.format(metrics.classification_report(y, stratified_cv(X, y, ensemble.RandomForestClassifier))))\n",
    "print('K Nearest Neighbor Classifier:\\n {}\\n'.format(metrics.classification_report(y, stratified_cv(X, y, neighbors.KNeighborsClassifier))))\n",
    "print('Logistic Regression:\\n {}\\n'.format(metrics.classification_report(y, stratified_cv(X, y, linear_model.LogisticRegression))))"
   ]
  },
  {
   "cell_type": "markdown",
   "metadata": {
    "_cell_guid": "c4261223-5213-4d9c-8c35-7912c94965f5",
    "_uuid": "891aef6065cfcd655fba671a3675dc6a867848b0"
   },
   "source": [
    "### Final Model Selection\n",
    "\n",
    "Gradient Boosting seems to do comparatively for this case"
   ]
  },
  {
   "cell_type": "code",
   "execution_count": 79,
   "metadata": {
    "_cell_guid": "299cf090-6cc9-4d06-bddc-c7eacb7af6e6",
    "_uuid": "3c8ab3e8869af22dd8030f78870e71edb068ec4f"
   },
   "outputs": [
    {
     "data": {
      "text/plain": [
       "GradientBoostingClassifier(criterion='friedman_mse', init=None,\n",
       "                           learning_rate=0.1, loss='deviance', max_depth=3,\n",
       "                           max_features=None, max_leaf_nodes=None,\n",
       "                           min_impurity_decrease=0.0, min_impurity_split=None,\n",
       "                           min_samples_leaf=1, min_samples_split=2,\n",
       "                           min_weight_fraction_leaf=0.0, n_estimators=100,\n",
       "                           n_iter_no_change=None, presort='auto',\n",
       "                           random_state=None, subsample=1.0, tol=0.0001,\n",
       "                           validation_fraction=0.1, verbose=0,\n",
       "                           warm_start=False)"
      ]
     },
     "execution_count": 79,
     "metadata": {},
     "output_type": "execute_result"
    }
   ],
   "source": [
    "gbc = ensemble.GradientBoostingClassifier()\n",
    "gbc.fit(X, y)"
   ]
  },
  {
   "cell_type": "code",
   "execution_count": 80,
   "metadata": {
    "_cell_guid": "6e878e57-c7a2-48da-b218-51c8d69d2088",
    "_uuid": "d31627ac80203a4fe253e0bc08d1b3df00f4e81a"
   },
   "outputs": [
    {
     "name": "stdout",
     "output_type": "stream",
     "text": [
      "[0.04710938 0.059472   0.11117114 0.0128723  0.02627995 0.08049352\n",
      " 0.20265925 0.06925243 0.00163916 0.00723904 0.00393955 0.00095888\n",
      " 0.         0.09431344 0.02487509 0.06349257 0.08384526 0.09030763\n",
      " 0.00916826 0.01091116]\n"
     ]
    },
    {
     "data": {
      "text/plain": [
       "<matplotlib.axes._subplots.AxesSubplot at 0x1c140534048>"
      ]
     },
     "execution_count": 80,
     "metadata": {},
     "output_type": "execute_result"
    },
    {
     "data": {
      "image/png": "[encoded data removed]",
      "text/plain": [
       "<Figure size 720x720 with 1 Axes>"
      ]
     },
     "metadata": {
      "needs_background": "light"
     },
     "output_type": "display_data"
    }
   ],
   "source": [
    "# Get Feature Importance from the classifier\n",
    "feature_importance = gbc.feature_importances_\n",
    "print (gbc.feature_importances_)\n",
    "feat_importances = pd.Series(gbc.feature_importances_, index=df.columns)\n",
    "feat_importances = feat_importances.nlargest(19)\n",
    "feat_importances.plot(kind='barh' , figsize=(10,10)) "
   ]
  }
 ],
 "metadata": {
  "anaconda-cloud": {},
  "kernelspec": {
   "display_name": "Python 3",
   "language": "python",
   "name": "python3"
  },
  "language_info": {
   "codemirror_mode": {
    "name": "ipython",
    "version": 3
   },
   "file_extension": ".py",
   "mimetype": "text/x-python",
   "name": "python",
   "nbconvert_exporter": "python",
   "pygments_lexer": "ipython3",
   "version": "3.6.5"
  }
 },
 "nbformat": 4,
 "nbformat_minor": 4
}
